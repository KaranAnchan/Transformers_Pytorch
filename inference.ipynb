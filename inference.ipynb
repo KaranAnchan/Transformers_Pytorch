{
 "cells": [
  {
   "cell_type": "code",
   "execution_count": 1,
   "metadata": {},
   "outputs": [
    {
     "name": "stderr",
     "output_type": "stream",
     "text": [
      "C:\\Users\\Kar_a\\AppData\\Roaming\\Python\\Python311\\site-packages\\tqdm\\auto.py:21: TqdmWarning: IProgress not found. Please update jupyter and ipywidgets. See https://ipywidgets.readthedocs.io/en/stable/user_install.html\n",
      "  from .autonotebook import tqdm as notebook_tqdm\n"
     ]
    }
   ],
   "source": [
    "from pathlib import Path\n",
    "import torch\n",
    "import torch.nn as nn\n",
    "from config import get_config, get_weights_file_path\n",
    "from train import get_model, get_ds, run_validation"
   ]
  },
  {
   "cell_type": "code",
   "execution_count": 2,
   "metadata": {},
   "outputs": [
    {
     "name": "stdout",
     "output_type": "stream",
     "text": [
      "Using device: cuda\n"
     ]
    },
    {
     "name": "stderr",
     "output_type": "stream",
     "text": [
      "Filtering long sentences: 100%|██████████| 1659083/1659083 [01:23<00:00, 19840.36it/s]\n"
     ]
    },
    {
     "name": "stdout",
     "output_type": "stream",
     "text": [
      "Max Length Of Source Sentence: 36\n",
      "Max Length Of Target Sentence: 106\n"
     ]
    }
   ],
   "source": [
    "# Define the device\n",
    "device = torch.device(\"cuda\" if torch.cuda.is_available() else \"cpu\")\n",
    "print(\"Using device:\", device)\n",
    "config = get_config()\n",
    "train_dataloader, val_dataloader, tokenizer_src, tokenizer_tgt = get_ds(config)\n",
    "model = get_model(config, tokenizer_src.get_vocab_size(), tokenizer_tgt.get_vocab_size()).to(device)"
   ]
  },
  {
   "cell_type": "code",
   "execution_count": 3,
   "metadata": {},
   "outputs": [
    {
     "data": {
      "text/plain": [
       "<All keys matched successfully>"
      ]
     },
     "execution_count": 3,
     "metadata": {},
     "output_type": "execute_result"
    }
   ],
   "source": [
    "model_filename = get_weights_file_path(config, f\"20\")\n",
    "state = torch.load(model_filename)\n",
    "model.load_state_dict(state['model_state_dict'])"
   ]
  },
  {
   "cell_type": "code",
   "execution_count": 8,
   "metadata": {},
   "outputs": [
    {
     "name": "stdout",
     "output_type": "stream",
     "text": [
      "--------------------------------------------------------------------------------\n",
      "    SOURCE: Set as _ Desktop Background\n",
      "    TARGET: बतौर डेस्कटॉप पृष्ठभूमि सेट करें (_ D) \n",
      " PREDICTED: बतौर डेस्कटॉप पृष्ठभूमि सेट करें ( _ D )\n",
      "--------------------------------------------------------------------------------\n",
      "    SOURCE: Wireless Telephone\n",
      "    TARGET: ताररहित टेलीफोन (वहनीय फोन) \n",
      " PREDICTED: वायरलेस टेलीफोन\n",
      "--------------------------------------------------------------------------------\n",
      "    SOURCE: aunt and niece\n",
      "    TARGET: फूफी और भतीजी; मौसी और भांजी\n",
      " PREDICTED: और\n",
      "--------------------------------------------------------------------------------\n",
      "    SOURCE: decrepit\n",
      "    TARGET: असक्त\n",
      " PREDICTED: अबरा\n",
      "--------------------------------------------------------------------------------\n",
      "    SOURCE: layered\n",
      "    TARGET: स्तरित\n",
      " PREDICTED: \n",
      "--------------------------------------------------------------------------------\n",
      "    SOURCE: The Chief Commercial Manager (Refunds), Railway\n",
      "    TARGET: मुख्य वाणिज्य प्रबंधक (वापसी), रेलवे\n",
      " PREDICTED: मुख्य व्यावसायिक प्रबंधक ( ), रेल\n",
      "--------------------------------------------------------------------------------\n",
      "    SOURCE: mystical\n",
      "    TARGET: रहस्यमय\n",
      " PREDICTED: \n",
      "--------------------------------------------------------------------------------\n",
      "    SOURCE: kitchen range\n",
      "    TARGET: स्टोव\n",
      " PREDICTED: \n",
      "--------------------------------------------------------------------------------\n",
      "    SOURCE: Sick Industrial Companies Act (SICA)\n",
      "    TARGET: रुग्ण औद्योगिक कंपनी अधिनियम (एसआईसीए) \n",
      " PREDICTED: रोगी औद्योगिक कंपनी अधिनियम ( )\n",
      "--------------------------------------------------------------------------------\n",
      "    SOURCE: June 26\n",
      "    TARGET: २६ जून\n",
      " PREDICTED: २६ जून\n",
      "--------------------------------------------------------------------------------\n"
     ]
    }
   ],
   "source": [
    "run_validation(model, val_dataloader, tokenizer_src, tokenizer_tgt, config['seq_len'], device, lambda msg: print(msg), 0, None, num_examples=10)"
   ]
  },
  {
   "cell_type": "code",
   "execution_count": null,
   "metadata": {},
   "outputs": [],
   "source": []
  }
 ],
 "metadata": {
  "kernelspec": {
   "display_name": "Python 3",
   "language": "python",
   "name": "python3"
  },
  "language_info": {
   "codemirror_mode": {
    "name": "ipython",
    "version": 3
   },
   "file_extension": ".py",
   "mimetype": "text/x-python",
   "name": "python",
   "nbconvert_exporter": "python",
   "pygments_lexer": "ipython3",
   "version": "3.11.4"
  }
 },
 "nbformat": 4,
 "nbformat_minor": 2
}
